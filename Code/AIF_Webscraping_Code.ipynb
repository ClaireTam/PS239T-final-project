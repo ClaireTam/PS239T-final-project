{
 "cells": [
  {
   "cell_type": "code",
   "execution_count": 1,
   "metadata": {
    "collapsed": false
   },
   "outputs": [
    {
     "name": "stdout",
     "output_type": "stream",
     "text": [
      "['https://wikileaks.org/irq/sort/category/supporting_aif_0.html', 'https://wikileaks.org/irq/sort/category/supporting_aif_1.html']\n",
      "https://wikileaks.org/irq/sort/category/supporting_aif_0.html\n",
      "[('IRQ20041026n827', '/irq/report/2004/10/IRQ20041026n827.html', '2004/10', '33.210495', '44.36906052'), ('IRQ20050727n2219', '/irq/report/2005/07/IRQ20050727n2219.html', '2005/07', '33.28689957', '44.06549072'), ('IRQ20050808n2337', '/irq/report/2005/08/IRQ20050808n2337.html', '2005/08', '35.42382813', '44.33744049'), ('IRQ20050926n2568', '/irq/report/2005/09/IRQ20050926n2568.html', '2005/09', '34.59077072', '43.67869186'), ('IRQ20051013n2826', '/irq/report/2005/10/IRQ20051013n2826.html', '2005/10', '34.44541168', '43.79758835'), ('IRQ20051013n2836', '/irq/report/2005/10/IRQ20051013n2836.html', '2005/10', '31.72332954', '46.10445023'), ('IRQ20051015n2800', '/irq/report/2005/10/IRQ20051015n2800.html', '2005/10', '36.3837204', '42.45209885'), ('IRQ20051015n2820', '/irq/report/2005/10/IRQ20051015n2820.html', '2005/10', '36.42802048', '42.60055923'), ('IRQ20051021n2839', '/irq/report/2005/10/IRQ20051021n2839.html', '2005/10', '30.05134964', '47.93199158'), ('IRQ20051021n2842', '/irq/report/2005/10/IRQ20051021n2842.html', '2005/10', '32.99943161', '40.9994812'), ('IRQ20051022n2868', '/irq/report/2005/10/IRQ20051022n2868.html', '2005/10', '35.45162964', '44.38951874'), ('IRQ20051026n2680', '/irq/report/2005/10/IRQ20051026n2680.html', '2005/10', '30.38920021', '47.70032883'), ('IRQ20051108n2889', '/irq/report/2005/11/IRQ20051108n2889.html', '2005/11', '33.43997955', '43.46207047'), ('IRQ20051110n3028', '/irq/report/2005/11/IRQ20051110n3028.html', '2005/11', '31.01314926', '47.43227005'), ('IRQ20051110n3031', '/irq/report/2005/11/IRQ20051110n3031.html', '2005/11', '30.52178955', '47.82415009'), ('IRQ20051110n3033', '/irq/report/2005/11/IRQ20051110n3033.html', '2005/11', '30.51322937', '47.80307007'), ('IRQ20051113n3088', '/irq/report/2005/11/IRQ20051113n3088.html', '2005/11', '33.38010025', '44.34767914'), ('IRQ20051114n3069', '/irq/report/2005/11/IRQ20051114n3069.html', '2005/11', '34.14389038', '42.38209152'), ('IRQ20051114n3070', '/irq/report/2005/11/IRQ20051114n3070.html', '2005/11', '36.37662125', '42.43870163'), ('IRQ20051114n3080', '/irq/report/2005/11/IRQ20051114n3080.html', '2005/11', '34.26964951', '43.21313095'), ('IRQ20051115n3139', '/irq/report/2005/11/IRQ20051115n3139.html', '2005/11', '33.84738922', '44.23254013'), ('IRQ20051116n2973', '/irq/report/2005/11/IRQ20051116n2973.html', '2005/11', '33.34077072', '44.37435913'), ('IRQ20051118n2953', '/irq/report/2005/11/IRQ20051118n2953.html', '2005/11', '33.36064148', '44.27983856'), ('IRQ20051118n2954', '/irq/report/2005/11/IRQ20051118n2954.html', '2005/11', '35.46421051', '44.38061142'), ('IRQ20051120n2731', '/irq/report/2005/11/IRQ20051120n2731.html', '2005/11', '37.14416122', '42.68722153'), ('IRQ20051122n2936', '/irq/report/2005/11/IRQ20051122n2936.html', '2005/11', '33.84389877', '44.2669487'), ('IRQ20051123n2823', '/irq/report/2005/11/IRQ20051123n2823.html', '2005/11', '35.83457947', '43.22130966'), ('IRQ20051201n3076', '/irq/report/2005/12/IRQ20051201n3076.html', '2005/12', '30.49596024', '47.85047913'), ('IRQ20051207n3344', '/irq/report/2005/12/IRQ20051207n3344.html', '2005/12', '33.41894913', '43.63967896'), ('IRQ20060126n3270', '/irq/report/2006/01/IRQ20060126n3270.html', '2006/01', '33.42702103', '43.30080032'), ('IRQ20060217n3240', '/irq/report/2006/02/IRQ20060217n3240.html', '2006/02', '33.05754089', '44.36278915'), ('IRQ20060222n3705', '/irq/report/2006/02/IRQ20060222n3705.html', '2006/02', '33.30802155', '44.21432114'), ('IRQ20060227n3607', '/irq/report/2006/02/IRQ20060227n3607.html', '2006/02', '33.05130005', '44.35503006'), ('IRQ20060319n3667', '/irq/report/2006/03/IRQ20060319n3667.html', '2006/03', '32.90800095', '44.37731171'), ('IRQ20060406n4062', '/irq/report/2006/04/IRQ20060406n4062.html', '2006/04', '33.42200851', '44.28686142'), ('IRQ20060414n3942', '/irq/report/2006/04/IRQ20060414n3942.html', '2006/04', '33.19697189', '44.44683075'), ('IRQ20060417n3711', '/irq/report/2006/04/IRQ20060417n3711.html', '2006/04', '33.05192947', '44.36006927'), ('IRQ20060419n3884', '/irq/report/2006/04/IRQ20060419n3884.html', '2006/04', '33.07498932', '44.34741974'), ('IRQ20060425n3700', '/irq/report/2006/04/IRQ20060425n3700.html', '2006/04', '32.47161102', '45.80876923'), ('IRQ20060425n3765', '/irq/report/2006/04/IRQ20060425n3765.html', '2006/04', '33.19440079', '44.47795868'), ('IRQ20060428n3956', '/irq/report/2006/04/IRQ20060428n3956.html', '2006/04', '35.41717911', '44.3534317'), ('IRQ20060505n4062', '/irq/report/2006/05/IRQ20060505n4062.html', '2006/05', '33.20462036', '44.46459961'), ('IRQ20060511n4116', '/irq/report/2006/05/IRQ20060511n4116.html', '2006/05', '33.24473953', '44.3210907'), ('IRQ20060511n4147', '/irq/report/2006/05/IRQ20060511n4147.html', '2006/05', '33.20732117', '44.13121033'), ('IRQ20060511n4170', '/irq/report/2006/05/IRQ20060511n4170.html', '2006/05', '33.20732117', '44.13121033'), ('IRQ20060513n4158', '/irq/report/2006/05/IRQ20060513n4158.html', '2006/05', '33.19570923', '44.47249985'), ('IRQ20060530n3938', '/irq/report/2006/05/IRQ20060530n3938.html', '2006/05', '33.20682907', '44.41339874'), ('IRQ20060604n4192', '/irq/report/2006/06/IRQ20060604n4192.html', '2006/06', '30.49463081', '47.87023163'), ('IRQ20060724n4521', '/irq/report/2006/07/IRQ20060724n4521.html', '2006/07', '32.77835083', '44.28723907'), ('IRQ20060914n4984', '/irq/report/2006/09/IRQ20060914n4984.html', '2006/09', '32.61144257', '44.34878159')]\n",
      "https://wikileaks.org/irq/sort/category/supporting_aif_1.html\n",
      "[('IRQ20041026n827', '/irq/report/2004/10/IRQ20041026n827.html', '2004/10', '33.210495', '44.36906052'), ('IRQ20050727n2219', '/irq/report/2005/07/IRQ20050727n2219.html', '2005/07', '33.28689957', '44.06549072'), ('IRQ20050808n2337', '/irq/report/2005/08/IRQ20050808n2337.html', '2005/08', '35.42382813', '44.33744049'), ('IRQ20050926n2568', '/irq/report/2005/09/IRQ20050926n2568.html', '2005/09', '34.59077072', '43.67869186'), ('IRQ20051013n2826', '/irq/report/2005/10/IRQ20051013n2826.html', '2005/10', '34.44541168', '43.79758835'), ('IRQ20051013n2836', '/irq/report/2005/10/IRQ20051013n2836.html', '2005/10', '31.72332954', '46.10445023'), ('IRQ20051015n2800', '/irq/report/2005/10/IRQ20051015n2800.html', '2005/10', '36.3837204', '42.45209885'), ('IRQ20051015n2820', '/irq/report/2005/10/IRQ20051015n2820.html', '2005/10', '36.42802048', '42.60055923'), ('IRQ20051021n2839', '/irq/report/2005/10/IRQ20051021n2839.html', '2005/10', '30.05134964', '47.93199158'), ('IRQ20051021n2842', '/irq/report/2005/10/IRQ20051021n2842.html', '2005/10', '32.99943161', '40.9994812'), ('IRQ20051022n2868', '/irq/report/2005/10/IRQ20051022n2868.html', '2005/10', '35.45162964', '44.38951874'), ('IRQ20051026n2680', '/irq/report/2005/10/IRQ20051026n2680.html', '2005/10', '30.38920021', '47.70032883'), ('IRQ20051108n2889', '/irq/report/2005/11/IRQ20051108n2889.html', '2005/11', '33.43997955', '43.46207047'), ('IRQ20051110n3028', '/irq/report/2005/11/IRQ20051110n3028.html', '2005/11', '31.01314926', '47.43227005'), ('IRQ20051110n3031', '/irq/report/2005/11/IRQ20051110n3031.html', '2005/11', '30.52178955', '47.82415009'), ('IRQ20051110n3033', '/irq/report/2005/11/IRQ20051110n3033.html', '2005/11', '30.51322937', '47.80307007'), ('IRQ20051113n3088', '/irq/report/2005/11/IRQ20051113n3088.html', '2005/11', '33.38010025', '44.34767914'), ('IRQ20051114n3069', '/irq/report/2005/11/IRQ20051114n3069.html', '2005/11', '34.14389038', '42.38209152'), ('IRQ20051114n3070', '/irq/report/2005/11/IRQ20051114n3070.html', '2005/11', '36.37662125', '42.43870163'), ('IRQ20051114n3080', '/irq/report/2005/11/IRQ20051114n3080.html', '2005/11', '34.26964951', '43.21313095'), ('IRQ20051115n3139', '/irq/report/2005/11/IRQ20051115n3139.html', '2005/11', '33.84738922', '44.23254013'), ('IRQ20051116n2973', '/irq/report/2005/11/IRQ20051116n2973.html', '2005/11', '33.34077072', '44.37435913'), ('IRQ20051118n2953', '/irq/report/2005/11/IRQ20051118n2953.html', '2005/11', '33.36064148', '44.27983856'), ('IRQ20051118n2954', '/irq/report/2005/11/IRQ20051118n2954.html', '2005/11', '35.46421051', '44.38061142'), ('IRQ20051120n2731', '/irq/report/2005/11/IRQ20051120n2731.html', '2005/11', '37.14416122', '42.68722153'), ('IRQ20051122n2936', '/irq/report/2005/11/IRQ20051122n2936.html', '2005/11', '33.84389877', '44.2669487'), ('IRQ20051123n2823', '/irq/report/2005/11/IRQ20051123n2823.html', '2005/11', '35.83457947', '43.22130966'), ('IRQ20051201n3076', '/irq/report/2005/12/IRQ20051201n3076.html', '2005/12', '30.49596024', '47.85047913'), ('IRQ20051207n3344', '/irq/report/2005/12/IRQ20051207n3344.html', '2005/12', '33.41894913', '43.63967896'), ('IRQ20060126n3270', '/irq/report/2006/01/IRQ20060126n3270.html', '2006/01', '33.42702103', '43.30080032'), ('IRQ20060217n3240', '/irq/report/2006/02/IRQ20060217n3240.html', '2006/02', '33.05754089', '44.36278915'), ('IRQ20060222n3705', '/irq/report/2006/02/IRQ20060222n3705.html', '2006/02', '33.30802155', '44.21432114'), ('IRQ20060227n3607', '/irq/report/2006/02/IRQ20060227n3607.html', '2006/02', '33.05130005', '44.35503006'), ('IRQ20060319n3667', '/irq/report/2006/03/IRQ20060319n3667.html', '2006/03', '32.90800095', '44.37731171'), ('IRQ20060406n4062', '/irq/report/2006/04/IRQ20060406n4062.html', '2006/04', '33.42200851', '44.28686142'), ('IRQ20060414n3942', '/irq/report/2006/04/IRQ20060414n3942.html', '2006/04', '33.19697189', '44.44683075'), ('IRQ20060417n3711', '/irq/report/2006/04/IRQ20060417n3711.html', '2006/04', '33.05192947', '44.36006927'), ('IRQ20060419n3884', '/irq/report/2006/04/IRQ20060419n3884.html', '2006/04', '33.07498932', '44.34741974'), ('IRQ20060425n3700', '/irq/report/2006/04/IRQ20060425n3700.html', '2006/04', '32.47161102', '45.80876923'), ('IRQ20060425n3765', '/irq/report/2006/04/IRQ20060425n3765.html', '2006/04', '33.19440079', '44.47795868'), ('IRQ20060428n3956', '/irq/report/2006/04/IRQ20060428n3956.html', '2006/04', '35.41717911', '44.3534317'), ('IRQ20060505n4062', '/irq/report/2006/05/IRQ20060505n4062.html', '2006/05', '33.20462036', '44.46459961'), ('IRQ20060511n4116', '/irq/report/2006/05/IRQ20060511n4116.html', '2006/05', '33.24473953', '44.3210907'), ('IRQ20060511n4147', '/irq/report/2006/05/IRQ20060511n4147.html', '2006/05', '33.20732117', '44.13121033'), ('IRQ20060511n4170', '/irq/report/2006/05/IRQ20060511n4170.html', '2006/05', '33.20732117', '44.13121033'), ('IRQ20060513n4158', '/irq/report/2006/05/IRQ20060513n4158.html', '2006/05', '33.19570923', '44.47249985'), ('IRQ20060530n3938', '/irq/report/2006/05/IRQ20060530n3938.html', '2006/05', '33.20682907', '44.41339874'), ('IRQ20060604n4192', '/irq/report/2006/06/IRQ20060604n4192.html', '2006/06', '30.49463081', '47.87023163'), ('IRQ20060724n4521', '/irq/report/2006/07/IRQ20060724n4521.html', '2006/07', '32.77835083', '44.28723907'), ('IRQ20060914n4984', '/irq/report/2006/09/IRQ20060914n4984.html', '2006/09', '32.61144257', '44.34878159'), ('IRQ20060914n5208', '/irq/report/2006/09/IRQ20060914n5208.html', '2006/09', '32.6076088', '44.03334808'), ('IRQ20060926n5301', '/irq/report/2006/09/IRQ20060926n5301.html', '2006/09', '33.39583588', '44.46234894'), ('IRQ20061125n5841', '/irq/report/2006/11/IRQ20061125n5841.html', '2006/11', '33.26599884', '44.29135513'), ('IRQ20061128n6369', '/irq/report/2006/11/IRQ20061128n6369.html', '2006/11', '33.83393097', '44.24347305'), ('IRQ20061209n6351', '/irq/report/2006/12/IRQ20061209n6351.html', '2006/12', '36.40235138', '42.96505737'), ('IRQ20061209n6465', '/irq/report/2006/12/IRQ20061209n6465.html', '2006/12', '33.34729004', '44.31219101'), ('IRQ20061210n6166', '/irq/report/2006/12/IRQ20061210n6166.html', '2006/12', '33.34909058', '44.83879089'), ('IRQ20061212n6051', '/irq/report/2006/12/IRQ20061212n6051.html', '2006/12', '32.31871796', '44.26695633'), ('IRQ20061213n6246', '/irq/report/2006/12/IRQ20061213n6246.html', '2006/12', '33.35184097', '44.44421768'), ('IRQ20061221n6154', '/irq/report/2006/12/IRQ20061221n6154.html', '2006/12', '33.97602463', '44.92963409'), ('IRQ20061228n6574', '/irq/report/2006/12/IRQ20061228n6574.html', '2006/12', '33.33192825', '44.30693817'), ('IRQ20070102n6366', '/irq/report/2007/01/IRQ20070102n6366.html', '2007/01', '33.74819183', '44.62427139'), ('IRQ20070107n6871', '/irq/report/2007/01/IRQ20070107n6871.html', '2007/01', '33.32959366', '44.37679672'), ('IRQ20070109n6815', '/irq/report/2007/01/IRQ20070109n6815.html', '2007/01', '32.95591354', '44.52387238'), ('IRQ20070117n6356', '/irq/report/2007/01/IRQ20070117n6356.html', '2007/01', '33.34653091', '44.40380096'), ('IRQ20070408n7292', '/irq/report/2007/04/IRQ20070408n7292.html', '2007/04', '36.29972076', '43.1162529'), ('IRQ20071112n9675', '/irq/report/2007/11/IRQ20071112n9675.html', '2007/11', '35.70195389', '44.86624908'), ('IRQ20080513n10916', '/irq/report/2008/05/IRQ20080513n10916.html', '2008/05', '31.92656708', '44.90828323'), ('IRQ20080709n11491', '/irq/report/2008/07/IRQ20080709n11491.html', '2008/07', '35.47593689', '44.38272095'), ('IRQ20090707n12910', '/irq/report/2009/07/IRQ20090707n12910.html', '2009/07', '33.73283005', '44.69195557')]\n"
     ]
    }
   ],
   "source": [
    "# import required modules\n",
    "import requests\n",
    "from bs4 import BeautifulSoup\n",
    "import csv\n",
    "\n",
    "AIF = []\n",
    "\n",
    "pages = []\n",
    "for i in range(2):\n",
    "    page = 'https://wikileaks.org/irq/sort/category/supporting_aif_' +str(i) +'.html'\n",
    "    pages.append(page)\n",
    "\n",
    "print pages\n",
    "\n",
    "def get_page_data(page):\n",
    "    #Get Request\n",
    "    req = requests.get(page)\n",
    "\n",
    "    # read the content of the server’s response\n",
    "    src = req.text\n",
    "\n",
    "    # parse the response into an HTML tree\n",
    "    soup = BeautifulSoup(src)\n",
    "\n",
    "    #pull links to events within table\n",
    "    soup_table = (soup.select('table.report td.c2'))\n",
    "    \n",
    "    num = len(soup_table)\n",
    "    \n",
    "    # store links in list\n",
    "    links = []\n",
    "    for i in range(num):\n",
    "        links.append((str(soup_table[i]).split(\"\\\"\"))[3])\n",
    "    \n",
    "    # store link ids in list\n",
    "    IDs = []\n",
    "    for i in range(num):\n",
    "        link = links[i]\n",
    "        id = str(link.split(\"/\")[5]).split(\".\")[0]\n",
    "        IDs.append(id)\n",
    "\n",
    "    #extract year and month from link\n",
    "    yearmonth = []\n",
    "    for i in range(num):\n",
    "        yearmonth.append(str(links[i])[12:19])\n",
    "    \n",
    "    # match links with their event ids\n",
    "    events = []\n",
    "    for i in range(num):\n",
    "        tup = (IDs[i], links[i], yearmonth[i])\n",
    "        events.append(tup)\n",
    "    \n",
    "#at this point, we have pulled the links and ids of each AIF event\n",
    "#now we want to run the link through a function to scrape each event page for lat, long, date \n",
    "\n",
    "    # store the links in a form we can use to webscrape each individual event page\n",
    "    urls = []\n",
    "    for i in range(num):\n",
    "        pull = events[i][1]\n",
    "        urls.append('http://wikileaks.org' + pull)\n",
    "\n",
    "    # webscrape latitude, longitude, and event description from each page\n",
    "    set_list = []\n",
    "    for url in urls:\n",
    "        src_events = requests.get(url).text\n",
    "        soup_events = BeautifulSoup(src_events)\n",
    "        line2 = str(soup_events.select('table.r2 td'))\n",
    "        pull_cardinals = line2.split(\">\")\n",
    "        pull_long = pull_cardinals[11]\n",
    "        pull_lat = pull_cardinals[9]\n",
    "        set = (str(pull_lat).split(\"<\")[0], str(pull_long).split(\"<\")[0])\n",
    "        set_list.append(set)\n",
    "\n",
    "    AIFevent_list = []\n",
    "    for i in range(num):\n",
    "        lat = set_list[i][0]\n",
    "        long = set_list[i][1]\n",
    "        info = (events[i][0], events[i][1], events[i][2], lat, long)\n",
    "        AIFevent_list.append(info)\n",
    "    \n",
    "    for i in range(num):\n",
    "        AIF.append(AIFevent_list[i])\n",
    "\n",
    "#put lists together in one long list   \n",
    "for i in pages:\n",
    "    print i\n",
    "    get_page_data(i)        \n",
    "    print AIF\n",
    "\n",
    "#write CSV, since it is a list, we will need to add the headers in r    \n",
    "with open(\"AIFoutput.csv\", \"wb\") as f:\n",
    "    writer = csv.writer(f)\n",
    "    writer.writerows(AIF)"
   ]
  },
  {
   "cell_type": "code",
   "execution_count": 2,
   "metadata": {
    "collapsed": false
   },
   "outputs": [
    {
     "data": {
      "text/plain": [
       "70"
      ]
     },
     "execution_count": 2,
     "metadata": {},
     "output_type": "execute_result"
    }
   ],
   "source": [
    "len(AIF)"
   ]
  }
 ],
 "metadata": {
  "kernelspec": {
   "display_name": "Python 2",
   "language": "python",
   "name": "python2"
  },
  "language_info": {
   "codemirror_mode": {
    "name": "ipython",
    "version": 2
   },
   "file_extension": ".py",
   "mimetype": "text/x-python",
   "name": "python",
   "nbconvert_exporter": "python",
   "pygments_lexer": "ipython2",
   "version": "2.7.10"
  }
 },
 "nbformat": 4,
 "nbformat_minor": 0
}
