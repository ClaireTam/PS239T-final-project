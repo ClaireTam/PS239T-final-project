{
 "cells": [
  {
   "cell_type": "code",
   "execution_count": 36,
   "metadata": {
    "collapsed": false
   },
   "outputs": [
    {
     "name": "stdout",
     "output_type": "stream",
     "text": [
      "['http://www.debate.org/opinions/should-the-united-states-pay-ransom-for-hostages?nsort=3&ysort=3']\n"
     ]
    }
   ],
   "source": [
    "# import required modules\n",
    "import requests\n",
    "from bs4 import BeautifulSoup\n",
    "import csv\n",
    "\n",
    "pages = []\n",
    "page = 'http://www.debate.org/opinions/should-the-united-states-pay-ransom-for-hostages?nsort=3&ysort=3' \n",
    "pages.append(page)\n",
    "\n",
    "print pages\n",
    "\n",
    "\n",
    "    #Get Request\n",
    "req = requests.get(page)\n",
    "\n",
    "    # read the content of the server’s response\n",
    "src = req.text\n",
    "\n",
    "    # parse the response into an HTML tree\n",
    "soup = BeautifulSoup(src)\n",
    "\n",
    "    #pull links to events within table\n",
    "soup_table = (soup.select('li.p'))\n",
    "    \n",
    "num = len(soup_table)\n",
    "    \n",
    "    # store links in list\n",
    "arguments = []\n",
    "for i in range(num):\n",
    "    arguments.append((str(soup_table[i]).split(\"\\\"\"))[3])\n",
    "    \n",
    "    \n",
    "#at this point, we have pulled the links and ids of each AIF event\n",
    "#now we want to run the link through a function to scrape each event page for lat, long, date \n",
    "\n",
    "    \n",
    "\n",
    "#write CSV, since it is a list, we will need to add the headers in r    \n",
    "with open(\"DebateOrg.csv\", \"wb\") as f:\n",
    "    writer = csv.writer(f)\n",
    "    writer.writerows(arguments)"
   ]
  },
  {
   "cell_type": "code",
   "execution_count": 37,
   "metadata": {
    "collapsed": false
   },
   "outputs": [
    {
     "name": "stdout",
     "output_type": "stream",
     "text": [
      "[]\n"
     ]
    }
   ],
   "source": [
    "print(arguments)"
   ]
  },
  {
   "cell_type": "code",
   "execution_count": 38,
   "metadata": {
    "collapsed": false
   },
   "outputs": [
    {
     "name": "stdout",
     "output_type": "stream",
     "text": [
      "[<h2>Those Hostages have families</h2>, <h2>The US Can't let people die for other people</h2>, <h2>The US Can't let people die for other people</h2>, <h2>Makes us look weak.</h2>, <h2>Makes us look weak.</h2>, <h2>People's life on the line</h2>, <h2>Yes Because ....</h2>, <h2>Life is precious</h2>, <h2>We do not negotiate</h2>, <h2>America does not negotiate</h2>, <h2>We can't encourage hostage holding</h2>, <h2>I encourages terrorists to take hostages.</h2>, <h2>Terrorists do not deserve money.</h2>, <h2>It makes us look weak</h2>, <h2>The US should not give in to terrorist demands</h2>]\n"
     ]
    }
   ],
   "source": [
    "    #pull links to events within table\n",
    "soup_table = (soup.select('ul li h2'))\n",
    "    \n",
    "num = len(soup_table)\n",
    "\n",
    "print soup_table"
   ]
  },
  {
   "cell_type": "code",
   "execution_count": 39,
   "metadata": {
    "collapsed": false
   },
   "outputs": [
    {
     "name": "stdout",
     "output_type": "stream",
     "text": [
      "[<p>Imagine how painful it would be for the hostages' families if their son, daughter, or someone they love dies. When the government decide on whether to or not, they should be thinking of the families. Therefore, we should pay for hostages. Whoever says no, think again. What if those hostages were you or someone you love?</p>, <p>Because the U.S. is a large country, and in these standards we need to be able to have an easy way the get back soldiers and hostages. We can't simply go in with guns and lose soldiers and risk not even getting the hostages, this is a very good and safe way of getting back people that deserve to live in America.</p>, <p>Because the U.S. is a large country, and in these standards we need to be able to have an easy way the get back soldiers and hostages. We can't simply go in with guns and lose soldiers and risk not even getting the hostages, this is a very good and safe way of getting back people that deserve to live in America.</p>, <p>When you don't respond to these hostages they will take more and more people and keep killing them. One after another more and more important people will be taken hostage and killed. This makes us look weak, like we can't respond to anything. We also won't be thought as the doctrine of the world, and that matters.</p>, <p>When you don't respond to these hostages they will take more and more people and keep killing them. One after another more and more important people will be taken hostage and killed. This makes us look weak, like we can't respond to anything. We also won't be thought as the doctrine of the world, and that matters.</p>, <p>When you deny to pay ransom you're saying that another Americans life is not worth saving. This is not an opinion this is just a known human response to not leave someone to die. If our soilders are able to save another persons life, why not take it? Saying the terrorists will win if we pay them is just as bad as leaving our fellow Americans trapped and helpless.</p>, <p>I Have a debate Soon and the Con (No) side of this is really easy to do, while the pro (yes) side of this seems more difficult to find points for. If you vote no , thanks for the support when I get to writing that side but until then it will be beneficial to help me on the pro side.</p>, <p>The cost of life shouldn't be questioned. If we can save a person from a terrible death at the hands of evil we should sacrifice the material to gain them back and tighten policies and develop ways to avoid it from ever happening again. Suffering is something to be avoided.</p>, <p>Non-negotiation is our policy against terrorism and piracy. We can never give in to demands, it won't end there. Plus if we give in to demands, it will only encourage the practice. Another thing is that there is no guarantee that the perpetrators will keep their word that the hostage (s) will be released if/when their demands are met. If someone is kidnapped and held for ransom, once the kidnappers have the money, they have no reason to keep the hostage alive.</p>, <p>It is hard and it is painful but in the end non-negotiation is the only way to benefit America and protect against kidnaps-for-ransom. There is no monetary value for human life. To not pay ransom means death for sure but we have to think for the good of many. Paying ransoms will only encourage more kidnapping and terrorism. The money will be used to fund more criminal activity and thus the cycle will never stop. We must never submit to perpetrators. The needs of many outweigh the needs of one.</p>, <p>When the United States pays a ransom for a hostage, they are telling the world they will do whatever it takes to ensure the safety of citizens.   Then other countries and armies will start captivating by the hundreds asking for ridiculously large ransoms.   At some point the United States will have to say, \"no more.\"   At this point they will have set some people free, but others will be stuck there, to be tortured and even die.   This will most likely infuriate the loved ones of those not included in the ransom payments.   <br/>The U.S. cannot pay ransoms or it will encourage more hostages to be held for captivators to make a comfortable living.</p>, <p>If we pay their ransoms they will merrily continue to do what they do. If it is truly the money they are after, than they probably won't kidnap people since it wouldn't pay. In the end it would save more lives to not pay the ransom than it would to pay it.</p>, <p>The United States does not give money to criminals, terrorists, and killers. We have our own ways to rescue them. We have an advanced military! M1 Abrams, F-35s, we're even developing laser weapons. Do you think we're going to let a wannabe hostage taker stop us? We can easily use skilled snipers to kill the terrorists and rescue hostages.</p>, <p>The USA has enough money and troop that it wouldn't hurt to help a hostage. If we don't have enough troops to get a hostage than how do we defend america. If we need we can even give them counterfeit money to keep then distracted while we help the hostage<br/>Evidence: CNN news</p>, <p>If the US starts paying ransom to terrorist groups, that's like giving the OK for terrorists to kidnap more Americans. They'll keep doing it because they would get paid for it. Also, ransom gives terrorists lots of support and cash, giving ransom is like supporting terrorist groups. This is a lot like the   Trolley problem. Should we let a few people stay as hostages to prevent many people from becoming hostages?</p>]\n"
     ]
    }
   ],
   "source": [
    "soup_table2 = (soup.select('ul li p'))\n",
    "    \n",
    "num = len(soup_table)\n",
    "\n",
    "print soup_table2"
   ]
  },
  {
   "cell_type": "code",
   "execution_count": 41,
   "metadata": {
    "collapsed": false
   },
   "outputs": [
    {
     "data": {
      "text/plain": [
       "15"
      ]
     },
     "execution_count": 41,
     "metadata": {},
     "output_type": "execute_result"
    }
   ],
   "source": [
    "len(soup_table)"
   ]
  },
  {
   "cell_type": "code",
   "execution_count": 42,
   "metadata": {
    "collapsed": false
   },
   "outputs": [
    {
     "data": {
      "text/plain": [
       "15"
      ]
     },
     "execution_count": 42,
     "metadata": {},
     "output_type": "execute_result"
    }
   ],
   "source": [
    "len(soup_table2)"
   ]
  },
  {
   "cell_type": "code",
   "execution_count": 62,
   "metadata": {
    "collapsed": false
   },
   "outputs": [],
   "source": [
    "debate = []\n",
    "for i in range(15):\n",
    "    debate.append(soup_table[i])\n",
    "    debate.append(soup_table2[i])\n",
    "    "
   ]
  },
  {
   "cell_type": "code",
   "execution_count": 63,
   "metadata": {
    "collapsed": false
   },
   "outputs": [
    {
     "name": "stdout",
     "output_type": "stream",
     "text": [
      "[<h2>Those Hostages have families</h2>, <p>Imagine how painful it would be for the hostages' families if their son, daughter, or someone they love dies. When the government decide on whether to or not, they should be thinking of the families. Therefore, we should pay for hostages. Whoever says no, think again. What if those hostages were you or someone you love?</p>, <h2>The US Can't let people die for other people</h2>, <p>Because the U.S. is a large country, and in these standards we need to be able to have an easy way the get back soldiers and hostages. We can't simply go in with guns and lose soldiers and risk not even getting the hostages, this is a very good and safe way of getting back people that deserve to live in America.</p>, <h2>The US Can't let people die for other people</h2>, <p>Because the U.S. is a large country, and in these standards we need to be able to have an easy way the get back soldiers and hostages. We can't simply go in with guns and lose soldiers and risk not even getting the hostages, this is a very good and safe way of getting back people that deserve to live in America.</p>, <h2>Makes us look weak.</h2>, <p>When you don't respond to these hostages they will take more and more people and keep killing them. One after another more and more important people will be taken hostage and killed. This makes us look weak, like we can't respond to anything. We also won't be thought as the doctrine of the world, and that matters.</p>, <h2>Makes us look weak.</h2>, <p>When you don't respond to these hostages they will take more and more people and keep killing them. One after another more and more important people will be taken hostage and killed. This makes us look weak, like we can't respond to anything. We also won't be thought as the doctrine of the world, and that matters.</p>, <h2>People's life on the line</h2>, <p>When you deny to pay ransom you're saying that another Americans life is not worth saving. This is not an opinion this is just a known human response to not leave someone to die. If our soilders are able to save another persons life, why not take it? Saying the terrorists will win if we pay them is just as bad as leaving our fellow Americans trapped and helpless.</p>, <h2>Yes Because ....</h2>, <p>I Have a debate Soon and the Con (No) side of this is really easy to do, while the pro (yes) side of this seems more difficult to find points for. If you vote no , thanks for the support when I get to writing that side but until then it will be beneficial to help me on the pro side.</p>, <h2>Life is precious</h2>, <p>The cost of life shouldn't be questioned. If we can save a person from a terrible death at the hands of evil we should sacrifice the material to gain them back and tighten policies and develop ways to avoid it from ever happening again. Suffering is something to be avoided.</p>, <h2>We do not negotiate</h2>, <p>Non-negotiation is our policy against terrorism and piracy. We can never give in to demands, it won't end there. Plus if we give in to demands, it will only encourage the practice. Another thing is that there is no guarantee that the perpetrators will keep their word that the hostage (s) will be released if/when their demands are met. If someone is kidnapped and held for ransom, once the kidnappers have the money, they have no reason to keep the hostage alive.</p>, <h2>America does not negotiate</h2>, <p>It is hard and it is painful but in the end non-negotiation is the only way to benefit America and protect against kidnaps-for-ransom. There is no monetary value for human life. To not pay ransom means death for sure but we have to think for the good of many. Paying ransoms will only encourage more kidnapping and terrorism. The money will be used to fund more criminal activity and thus the cycle will never stop. We must never submit to perpetrators. The needs of many outweigh the needs of one.</p>, <h2>We can't encourage hostage holding</h2>, <p>When the United States pays a ransom for a hostage, they are telling the world they will do whatever it takes to ensure the safety of citizens.   Then other countries and armies will start captivating by the hundreds asking for ridiculously large ransoms.   At some point the United States will have to say, \"no more.\"   At this point they will have set some people free, but others will be stuck there, to be tortured and even die.   This will most likely infuriate the loved ones of those not included in the ransom payments.   <br/>The U.S. cannot pay ransoms or it will encourage more hostages to be held for captivators to make a comfortable living.</p>, <h2>I encourages terrorists to take hostages.</h2>, <p>If we pay their ransoms they will merrily continue to do what they do. If it is truly the money they are after, than they probably won't kidnap people since it wouldn't pay. In the end it would save more lives to not pay the ransom than it would to pay it.</p>, <h2>Terrorists do not deserve money.</h2>, <p>The United States does not give money to criminals, terrorists, and killers. We have our own ways to rescue them. We have an advanced military! M1 Abrams, F-35s, we're even developing laser weapons. Do you think we're going to let a wannabe hostage taker stop us? We can easily use skilled snipers to kill the terrorists and rescue hostages.</p>, <h2>It makes us look weak</h2>, <p>The USA has enough money and troop that it wouldn't hurt to help a hostage. If we don't have enough troops to get a hostage than how do we defend america. If we need we can even give them counterfeit money to keep then distracted while we help the hostage<br/>Evidence: CNN news</p>, <h2>The US should not give in to terrorist demands</h2>, <p>If the US starts paying ransom to terrorist groups, that's like giving the OK for terrorists to kidnap more Americans. They'll keep doing it because they would get paid for it. Also, ransom gives terrorists lots of support and cash, giving ransom is like supporting terrorist groups. This is a lot like the   Trolley problem. Should we let a few people stay as hostages to prevent many people from becoming hostages?</p>]\n"
     ]
    }
   ],
   "source": [
    "print debate"
   ]
  },
  {
   "cell_type": "code",
   "execution_count": 52,
   "metadata": {
    "collapsed": false
   },
   "outputs": [
    {
     "name": "stdout",
     "output_type": "stream",
     "text": [
      "0\n",
      "1\n",
      "2\n",
      "3\n",
      "4\n",
      "5\n",
      "6\n",
      "7\n",
      "8\n",
      "9\n",
      "10\n",
      "11\n",
      "12\n",
      "13\n",
      "14\n",
      "15\n"
     ]
    }
   ],
   "source": [
    "for i in range(16):\n",
    "    print i"
   ]
  },
  {
   "cell_type": "code",
   "execution_count": 51,
   "metadata": {
    "collapsed": false
   },
   "outputs": [
    {
     "data": {
      "text/plain": [
       "<h2>Those Hostages have families</h2>"
      ]
     },
     "execution_count": 51,
     "metadata": {},
     "output_type": "execute_result"
    }
   ],
   "source": [
    "soup_table[0]"
   ]
  },
  {
   "cell_type": "code",
   "execution_count": 64,
   "metadata": {
    "collapsed": false
   },
   "outputs": [
    {
     "ename": "KeyError",
     "evalue": "0",
     "output_type": "error",
     "traceback": [
      "\u001b[0;31m---------------------------------------------------------------------------\u001b[0m",
      "\u001b[0;31mKeyError\u001b[0m                                  Traceback (most recent call last)",
      "\u001b[0;32m<ipython-input-64-db8e7a02e4a5>\u001b[0m in \u001b[0;36m<module>\u001b[0;34m()\u001b[0m\n\u001b[1;32m      1\u001b[0m \u001b[0;32mwith\u001b[0m \u001b[0mopen\u001b[0m\u001b[0;34m(\u001b[0m\u001b[0;34m\"DebateOrg.csv\"\u001b[0m\u001b[0;34m,\u001b[0m \u001b[0;34m\"wb\"\u001b[0m\u001b[0;34m)\u001b[0m \u001b[0;32mas\u001b[0m \u001b[0mf\u001b[0m\u001b[0;34m:\u001b[0m\u001b[0;34m\u001b[0m\u001b[0m\n\u001b[1;32m      2\u001b[0m     \u001b[0mwriter\u001b[0m \u001b[0;34m=\u001b[0m \u001b[0mcsv\u001b[0m\u001b[0;34m.\u001b[0m\u001b[0mwriter\u001b[0m\u001b[0;34m(\u001b[0m\u001b[0mf\u001b[0m\u001b[0;34m)\u001b[0m\u001b[0;34m\u001b[0m\u001b[0m\n\u001b[0;32m----> 3\u001b[0;31m     \u001b[0mwriter\u001b[0m\u001b[0;34m.\u001b[0m\u001b[0mwriterows\u001b[0m\u001b[0;34m(\u001b[0m\u001b[0mdebate\u001b[0m\u001b[0;34m)\u001b[0m\u001b[0;34m\u001b[0m\u001b[0m\n\u001b[0m",
      "\u001b[0;32m/Users/Claire/anaconda/lib/python2.7/site-packages/bs4/element.pyc\u001b[0m in \u001b[0;36m__getitem__\u001b[0;34m(self, key)\u001b[0m\n\u001b[1;32m    903\u001b[0m         \"\"\"tag[key] returns the value of the 'key' attribute for the tag,\n\u001b[1;32m    904\u001b[0m         and throws an exception if it's not there.\"\"\"\n\u001b[0;32m--> 905\u001b[0;31m         \u001b[0;32mreturn\u001b[0m \u001b[0mself\u001b[0m\u001b[0;34m.\u001b[0m\u001b[0mattrs\u001b[0m\u001b[0;34m[\u001b[0m\u001b[0mkey\u001b[0m\u001b[0;34m]\u001b[0m\u001b[0;34m\u001b[0m\u001b[0m\n\u001b[0m\u001b[1;32m    906\u001b[0m \u001b[0;34m\u001b[0m\u001b[0m\n\u001b[1;32m    907\u001b[0m     \u001b[0;32mdef\u001b[0m \u001b[0m__iter__\u001b[0m\u001b[0;34m(\u001b[0m\u001b[0mself\u001b[0m\u001b[0;34m)\u001b[0m\u001b[0;34m:\u001b[0m\u001b[0;34m\u001b[0m\u001b[0m\n",
      "\u001b[0;31mKeyError\u001b[0m: 0"
     ]
    }
   ],
   "source": [
    "with open(\"DebateOrg.csv\", \"wb\") as f:\n",
    "    writer = csv.writer(f)\n",
    "    writer.writerows(debate)"
   ]
  }
 ],
 "metadata": {
  "kernelspec": {
   "display_name": "Python 2",
   "language": "python",
   "name": "python2"
  },
  "language_info": {
   "codemirror_mode": {
    "name": "ipython",
    "version": 2
   },
   "file_extension": ".py",
   "mimetype": "text/x-python",
   "name": "python",
   "nbconvert_exporter": "python",
   "pygments_lexer": "ipython2",
   "version": "2.7.10"
  }
 },
 "nbformat": 4,
 "nbformat_minor": 0
}
