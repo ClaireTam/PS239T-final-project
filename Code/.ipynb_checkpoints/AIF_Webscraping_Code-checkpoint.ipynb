{
 "cells": [
  {
   "cell_type": "code",
   "execution_count": 6,
   "metadata": {
    "collapsed": false
   },
   "outputs": [
    {
     "name": "stdout",
     "output_type": "stream",
     "text": [
      "['http://www.debate.org/opinions/should-the-united-states-pay-ransom-for-hostages?nsort=3&ysort=3']\n"
     ]
    }
   ],
   "source": [
    "# import required modules\n",
    "import requests\n",
    "from bs4 import BeautifulSoup\n",
    "import csv\n",
    "\n",
    "AIF = []\n",
    "\n",
    "pages = []\n",
    "for i in range(2):\n",
    "    page = 'https://wikileaks.org/irq/sort/category/supporting_aif_' +str(i) +'.html'\n",
    "    pages.append(page)\n",
    "\n",
    "print pages\n",
    "\n",
    "def get_page_data(page):\n",
    "    #Get Request\n",
    "    req = requests.get(page)\n",
    "\n",
    "    # read the content of the server’s response\n",
    "    src = req.text\n",
    "\n",
    "    # parse the response into an HTML tree\n",
    "    soup = BeautifulSoup(src)\n",
    "\n",
    "    #pull links to events within table\n",
    "    soup_table = (soup.select('table.report td.c2'))\n",
    "    \n",
    "    num = len(soup_table)\n",
    "    \n",
    "    # store links in list\n",
    "    links = []\n",
    "    for i in range(num):\n",
    "        links.append((str(soup_table[i]).split(\"\\\"\"))[3])\n",
    "    \n",
    "    # store link ids in list\n",
    "    IDs = []\n",
    "    for i in range(num):\n",
    "        link = links[i]\n",
    "        id = str(link.split(\"/\")[5]).split(\".\")[0]\n",
    "        IDs.append(id)\n",
    "\n",
    "    #extract year and month from link\n",
    "    yearmonth = []\n",
    "    for i in range(num):\n",
    "        yearmonth.append(str(links[i])[12:19])\n",
    "    \n",
    "    # match links with their event ids\n",
    "    events = []\n",
    "    for i in range(num):\n",
    "        tup = (IDs[i], links[i], yearmonth[i])\n",
    "        events.append(tup)\n",
    "    \n",
    "#at this point, we have pulled the links and ids of each AIF event\n",
    "#now we want to run the link through a function to scrape each event page for lat, long, date \n",
    "\n",
    "    # store the links in a form we can use to webscrape each individual event page\n",
    "    urls = []\n",
    "    for i in range(num):\n",
    "        pull = events[i][1]\n",
    "        urls.append('http://wikileaks.org' + pull)\n",
    "\n",
    "    # webscrape latitude, longitude, and event description from each page\n",
    "    set_list = []\n",
    "    for url in urls:\n",
    "        src_events = requests.get(url).text\n",
    "        soup_events = BeautifulSoup(src_events)\n",
    "        line2 = str(soup_events.select('table.r2 td'))\n",
    "        pull_cardinals = line2.split(\">\")\n",
    "        pull_long = pull_cardinals[11]\n",
    "        pull_lat = pull_cardinals[9]\n",
    "        set = (str(pull_lat).split(\"<\")[0], str(pull_long).split(\"<\")[0])\n",
    "        set_list.append(set)\n",
    "\n",
    "    AIFevent_list = []\n",
    "    for i in range(num):\n",
    "        lat = set_list[i][0]\n",
    "        long = set_list[i][1]\n",
    "        info = (events[i][0], events[i][1], events[i][2], lat, long)\n",
    "        AIFevent_list.append(info)\n",
    "    \n",
    "    for i in range(num):\n",
    "        AIF.append(AIFevent_list[i])\n",
    "\n",
    "#put lists together in one long list   \n",
    "for i in pages:\n",
    "    print i\n",
    "    get_page_data(i)        \n",
    "    print AIF\n",
    "\n",
    "#write CSV, since it is a list, we will need to add the headers in r    \n",
    "with open(\"AIFoutput.csv\", \"wb\") as f:\n",
    "    writer = csv.writer(f)\n",
    "    writer.writerows(AIF)"
   ]
  },
  {
   "cell_type": "code",
   "execution_count": 7,
   "metadata": {
    "collapsed": false
   },
   "outputs": [
    {
     "name": "stdout",
     "output_type": "stream",
     "text": [
      "[]\n"
     ]
    }
   ],
   "source": [
    "print(arguments)"
   ]
  }
 ],
 "metadata": {
  "kernelspec": {
   "display_name": "Python 2",
   "language": "python",
   "name": "python2"
  },
  "language_info": {
   "codemirror_mode": {
    "name": "ipython",
    "version": 2
   },
   "file_extension": ".py",
   "mimetype": "text/x-python",
   "name": "python",
   "nbconvert_exporter": "python",
   "pygments_lexer": "ipython2",
   "version": "2.7.10"
  }
 },
 "nbformat": 4,
 "nbformat_minor": 0
}
